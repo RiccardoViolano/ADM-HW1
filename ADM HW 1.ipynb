{
 "cells": [
  {
   "cell_type": "markdown",
   "id": "4ddf78e1",
   "metadata": {},
   "source": [
    "INTRODUCTION 7 "
   ]
  },
  {
   "cell_type": "markdown",
   "id": "c1d0ff12",
   "metadata": {},
   "source": [
    "Say \"Hello, World!\" with python"
   ]
  },
  {
   "cell_type": "code",
   "execution_count": null,
   "id": "9ef82688",
   "metadata": {},
   "outputs": [],
   "source": [
    "frase = \"Hello, World!\"\n",
    "print(frase)"
   ]
  },
  {
   "cell_type": "markdown",
   "id": "ea7f248a",
   "metadata": {},
   "source": [
    "python If-Else"
   ]
  },
  {
   "cell_type": "code",
   "execution_count": null,
   "id": "0985a807",
   "metadata": {},
   "outputs": [],
   "source": [
    "#!/bin/python3\n",
    "\n",
    "import math\n",
    "import os\n",
    "import random\n",
    "import re\n",
    "import sys\n",
    "\n",
    "\n",
    "\n",
    "if __name__ == '__main__':\n",
    "    n = int(input().strip())\n",
    "    if n % 2 == 1:\n",
    "     print(\"Weird\")\n",
    "    else:\n",
    "        if n>1 and n<6:\n",
    "            print(\"Not Weird\")\n",
    "        elif n>5 and n<21:\n",
    "            print(\"Weird\")\n",
    "        else:\n",
    "            print(\"Not Weird\")\n"
   ]
  },
  {
   "cell_type": "markdown",
   "id": "791581d8",
   "metadata": {},
   "source": [
    "Arithmetic Operators"
   ]
  },
  {
   "cell_type": "code",
   "execution_count": null,
   "id": "2bb1b01a",
   "metadata": {},
   "outputs": [],
   "source": [
    "if __name__ == '__main__':\n",
    "    a = int(input())\n",
    "    b = int(input())\n",
    "    print(a+b)\n",
    "    print(a-b)\n",
    "    print(a*b)"
   ]
  },
  {
   "cell_type": "markdown",
   "id": "8f67288f",
   "metadata": {},
   "source": [
    "Python:Division"
   ]
  },
  {
   "cell_type": "code",
   "execution_count": null,
   "id": "bcd38184",
   "metadata": {},
   "outputs": [],
   "source": [
    "if __name__ == '__main__':\n",
    "    a = int(input())\n",
    "    b = int(input())\n",
    "    print(a//b)\n",
    "    print(a/b)"
   ]
  },
  {
   "cell_type": "markdown",
   "id": "0e78a39b",
   "metadata": {},
   "source": [
    "Loops"
   ]
  },
  {
   "cell_type": "code",
   "execution_count": null,
   "id": "fdbd95c3",
   "metadata": {},
   "outputs": [],
   "source": [
    "if __name__ == '__main__':\n",
    "    n = int(input())\n",
    "    numbers=[i for i in range(n)]\n",
    "    for x in numbers :\n",
    "        print(x*x)"
   ]
  },
  {
   "cell_type": "markdown",
   "id": "eb4bd291",
   "metadata": {},
   "source": [
    "Write a function"
   ]
  },
  {
   "cell_type": "code",
   "execution_count": null,
   "id": "191bb007",
   "metadata": {},
   "outputs": [],
   "source": [
    "def is_leap(year):\n",
    "    leap = False\n",
    "    \n",
    "    # Write your logic here\n",
    "    if year%4==0:\n",
    "       leap = True\n",
    "       if year%100==0:\n",
    "         leap = False\n",
    "         if year%400==0:\n",
    "            leap = True\n",
    "        \n",
    "    return leap"
   ]
  },
  {
   "cell_type": "markdown",
   "id": "2f54cb4a",
   "metadata": {},
   "source": [
    "Print a function"
   ]
  },
  {
   "cell_type": "code",
   "execution_count": null,
   "id": "a4d6d9ad",
   "metadata": {},
   "outputs": [],
   "source": [
    "if __name__ == '__main__':\n",
    "    n = int(input())\n",
    "    print(*range(1,n+1),sep=\"\")"
   ]
  },
  {
   "cell_type": "markdown",
   "id": "1c8f9aa8",
   "metadata": {},
   "source": [
    "DATA TYPES 6"
   ]
  },
  {
   "cell_type": "markdown",
   "id": "c44b99bc",
   "metadata": {},
   "source": [
    "List Comprehensions"
   ]
  },
  {
   "cell_type": "code",
   "execution_count": null,
   "id": "b403e246",
   "metadata": {},
   "outputs": [],
   "source": [
    "if __name__ == '__main__':\n",
    "    x = int(input())\n",
    "    y = int(input())\n",
    "    z = int(input())\n",
    "    n = int(input())\n",
    "    #range command is from 0 to n-1\n",
    "    lista=[[a,d,h] for a in range(x+1) for d in range(y+1) for h in range(z+1) if a+d+h != n]\n",
    "    print(lista)"
   ]
  },
  {
   "cell_type": "markdown",
   "id": "65883710",
   "metadata": {},
   "source": [
    "Find the runner-up score"
   ]
  },
  {
   "cell_type": "code",
   "execution_count": null,
   "id": "ece637d5",
   "metadata": {},
   "outputs": [],
   "source": [
    "if __name__ == '__main__':\n",
    "    n = int(input())\n",
    "    arr = map(int, input().split())\n",
    "    no_double=set(arr)\n",
    "    no_double2=list(no_double)\n",
    "    #we don't want duplicate, in the set there are not duplicate\n",
    "    no_double2.sort()\n",
    "    a=len(no_double2)\n",
    "    print(no_double2[a-2])"
   ]
  },
  {
   "cell_type": "markdown",
   "id": "1e494750",
   "metadata": {},
   "source": [
    "Nested Lists"
   ]
  },
  {
   "cell_type": "code",
   "execution_count": null,
   "id": "fdbd2174",
   "metadata": {},
   "outputs": [],
   "source": [
    "if __name__ == '__main__':\n",
    "    \n",
    "    a=[]\n",
    "    b=[]\n",
    "    c=[]\n",
    "    for _ in range(int(input())):\n",
    "        name = input()\n",
    "        score = float(input())\n",
    "        a.append(name)\n",
    "        b.append(score)\n",
    "        \n",
    "    M=1000\n",
    "    for n in range(len(a)):\n",
    "        if M>b[n]:\n",
    "         M=b[n]\n",
    "         \n",
    "    min2=1000\n",
    "    for t in range(len(a)):\n",
    "        if min2>b[t] and b[t]!=M:\n",
    "         min2=b[t]\n",
    "         \n",
    "    for z in range(len(a)):\n",
    "        if min2==b[z]:\n",
    "            c.append(a[z])\n",
    "            \n",
    "    c.sort()\n",
    "    for j in range(len(c)):\n",
    "     print(c[j])\n"
   ]
  },
  {
   "cell_type": "markdown",
   "id": "7fe2452b",
   "metadata": {},
   "source": [
    "Finding the percentage"
   ]
  },
  {
   "cell_type": "code",
   "execution_count": null,
   "id": "36c1a282",
   "metadata": {},
   "outputs": [],
   "source": [
    "if __name__ == '__main__':\n",
    "    n = int(input())\n",
    "    s=0\n",
    "    student_marks = {}\n",
    "    for _ in range(n):\n",
    "        name, *line = input().split()\n",
    "        scores = list(map(float, line))\n",
    "        student_marks[name] = scores\n",
    "    query_name = input()\n",
    "    for z in student_marks[query_name]:\n",
    "        s+=z\n",
    "        \n",
    "        \n",
    "    average=s/len(student_marks[query_name])\n",
    "    print(\"%.2f\" %average)"
   ]
  },
  {
   "cell_type": "markdown",
   "id": "0bc4c8b0",
   "metadata": {},
   "source": [
    "Lists"
   ]
  },
  {
   "cell_type": "code",
   "execution_count": null,
   "id": "957f4e21",
   "metadata": {},
   "outputs": [],
   "source": [
    "if __name__ == '__main__':\n",
    "    N = int(input())\n",
    "    lista=[]\n",
    "    for i in range(N):\n",
    "     comando=input().split()\n",
    "     if comando[0] == \"insert\":\n",
    "        lista.insert(int(comando[1]),int(comando[2]))\n",
    "     elif comando[0] == \"print\":\n",
    "         print(lista)\n",
    "     elif comando[0] == \"remove\":\n",
    "         lista.remove(int(comando[1]))\n",
    "     elif comando[0] == \"append\":\n",
    "         lista.append(int(comando[1]))\n",
    "     elif comando[0] == \"sort\":\n",
    "         lista.sort()\n",
    "     elif comando[0] == \"pop\":\n",
    "         lista.pop()\n",
    "     elif comando[0] == \"reverse\":\n",
    "         lista.reverse()"
   ]
  },
  {
   "cell_type": "markdown",
   "id": "a5724478",
   "metadata": {},
   "source": [
    "Tuples"
   ]
  },
  {
   "cell_type": "code",
   "execution_count": null,
   "id": "81f300eb",
   "metadata": {},
   "outputs": [],
   "source": [
    "if __name__ == '__main__':\n",
    "    n = int(input())\n",
    "    integer_list = map(int, input().split())\n",
    "    t=tuple(integer_list)\n",
    "    print(hash(t))"
   ]
  },
  {
   "cell_type": "markdown",
   "id": "66c76762",
   "metadata": {},
   "source": [
    "Strings 14"
   ]
  },
  {
   "cell_type": "markdown",
   "id": "3c7ce1aa",
   "metadata": {},
   "source": [
    "Swap Case"
   ]
  },
  {
   "cell_type": "code",
   "execution_count": null,
   "id": "c727689d",
   "metadata": {},
   "outputs": [],
   "source": [
    "def swap_case(s):\n",
    "    a=\"\"\n",
    "    for i in range(len(s)):\n",
    "        if s[i].isupper():\n",
    "         a+=s[i].lower()\n",
    "        else:\n",
    "         a+=s[i].upper()           \n",
    "    return(a)"
   ]
  },
  {
   "cell_type": "markdown",
   "id": "abbccc6b",
   "metadata": {},
   "source": [
    "String Split and join"
   ]
  },
  {
   "cell_type": "code",
   "execution_count": null,
   "id": "d4a11f77",
   "metadata": {},
   "outputs": [],
   "source": [
    "def split_and_join(line):\n",
    "    # write your code here\n",
    "    line=line.split(\" \")\n",
    "    line=\"-\".join(line)\n",
    "    return(line)\n",
    "\n",
    "if __name__ == '__main__':\n",
    "    line = input()\n",
    "    result = split_and_join(line)\n",
    "    print(result)"
   ]
  },
  {
   "cell_type": "markdown",
   "id": "548f9a5b",
   "metadata": {},
   "source": [
    "What's your name?"
   ]
  },
  {
   "cell_type": "code",
   "execution_count": null,
   "id": "b24c8583",
   "metadata": {},
   "outputs": [],
   "source": [
    "def print_full_name(first, last):\n",
    "    # Write your code here\n",
    "    print(\"Hello %s %s! You just delved into python.\" %(first,last))"
   ]
  },
  {
   "cell_type": "markdown",
   "id": "75ca365a",
   "metadata": {},
   "source": [
    "Mutations"
   ]
  },
  {
   "cell_type": "code",
   "execution_count": null,
   "id": "722c1ade",
   "metadata": {},
   "outputs": [],
   "source": [
    "def mutate_string(string, position, character):\n",
    "    a=\"\"\n",
    "    a+=character\n",
    "    string=string[:position]+a+string[position+1:]\n",
    "    return(string)"
   ]
  },
  {
   "cell_type": "markdown",
   "id": "85effc7a",
   "metadata": {},
   "source": [
    "Find a String"
   ]
  },
  {
   "cell_type": "code",
   "execution_count": null,
   "id": "01b9d74c",
   "metadata": {},
   "outputs": [],
   "source": [
    "def count_substring(string, sub_string):\n",
    "    \n",
    "    a=0\n",
    "    for i in range(0,len(string)):\n",
    "     j=0\n",
    "     if string[i]==sub_string[j]:\n",
    "      check=1\n",
    "      for j in range(1,len(sub_string)):\n",
    "       \n",
    "       if i+j < len(string):\n",
    "        if string[i+j]==sub_string[j]:\n",
    "           check+=1\n",
    "           if(check==len(sub_string)):\n",
    "             a+=1\n",
    "    return(a)\n",
    "\n"
   ]
  },
  {
   "cell_type": "markdown",
   "id": "d317d5cb",
   "metadata": {},
   "source": [
    "String validators"
   ]
  },
  {
   "cell_type": "code",
   "execution_count": null,
   "id": "9c1ff65f",
   "metadata": {},
   "outputs": [],
   "source": [
    "if __name__ == '__main__':\n",
    "    s = input()\n",
    "    a=0\n",
    "    b=0\n",
    "    c=0\n",
    "    d=0\n",
    "    e=0\n",
    "    for i in range(0,len(s)):\n",
    "    #alphanumeric\n",
    "     if s[i].isalnum() and a==0:\n",
    "        a+=1\n",
    "    #alphabetic\n",
    "     if s[i].isalpha() and b==0:\n",
    "        b+=1\n",
    "    #digits\n",
    "     if s[i].isdigit() and c==0:\n",
    "        c+=1\n",
    "    #lowercase\n",
    "     if s[i].islower() and d==0:\n",
    "        d+=1\n",
    "    #uppercase\n",
    "     if s[i].isupper() and e==0:\n",
    "        e+=1\n",
    "        \n",
    "    if a!=0:\n",
    "      print(\"True\")\n",
    "    else:\n",
    "      print(\"False\")\n",
    "    if b!=0:\n",
    "      print(\"True\")\n",
    "    else:\n",
    "      print(\"False\")\n",
    "    if c!=0:\n",
    "      print(\"True\")\n",
    "    else:\n",
    "      print(\"False\")\n",
    "    if d!=0:\n",
    "      print(\"True\")\n",
    "    else:\n",
    "      print(\"False\")\n",
    "    if e!=0:\n",
    "      print(\"True\")\n",
    "    else:\n",
    "      print(\"False\")"
   ]
  },
  {
   "cell_type": "markdown",
   "id": "d84e378a",
   "metadata": {},
   "source": [
    "text alignement"
   ]
  },
  {
   "cell_type": "code",
   "execution_count": null,
   "id": "b43df1ba",
   "metadata": {},
   "outputs": [],
   "source": [
    "# Enter your code here. Read input from STDIN. Print output to STDOUT\n",
    "#there wasn't any template i serched on internet\n",
    "thickness = int(input()) #This must be an odd number\n",
    "c = 'H'\n",
    "\n",
    "#Top Cone\n",
    "for i in range(thickness):\n",
    "    print((c*i).rjust(thickness-1)+c+(c*i).ljust(thickness-1))\n",
    "\n",
    "#Top Pillars\n",
    "for i in range(thickness+1):\n",
    "    print((c*thickness).center(thickness*2)+(c*thickness).center(thickness*6))\n",
    "\n",
    "#Middle Belt\n",
    "for i in range((thickness+1)//2):\n",
    "    print((c*thickness*5).center(thickness*6))    \n",
    "\n",
    "#Bottom Pillars\n",
    "for i in range(thickness+1):\n",
    "    print((c*thickness).center(thickness*2)+(c*thickness).center(thickness*6))    \n",
    "\n",
    "#Bottom Cone\n",
    "for i in range(thickness):\n",
    "    print(((c*(thickness-i-1)).rjust(thickness)+c+(c*(thickness-i-1)).ljust(thickness)).rjust(thickness*6))\n"
   ]
  },
  {
   "cell_type": "markdown",
   "id": "80a5f8c8",
   "metadata": {},
   "source": [
    "String formatting"
   ]
  },
  {
   "cell_type": "code",
   "execution_count": null,
   "id": "e7ef6d9a",
   "metadata": {},
   "outputs": [],
   "source": [
    "def print_formatted(number):\n",
    "    # your code goes here\n",
    "    spazio=len(bin(number)[2:])\n",
    "    for i in range(1,number+1):\n",
    "        intero=str(i)\n",
    "        #necessaria la trasfrmazione in stringa senno non posso usare rjust\n",
    "        print(intero.rjust(spazio), end=\" \")\n",
    "        print(oct(i)[2:].rjust(spazio),end=\" \")\n",
    "        print(hex(i)[2:].rjust(spazio).upper(),end=\" \")\n",
    "        print(bin(i)[2:].rjust(spazio))"
   ]
  },
  {
   "cell_type": "markdown",
   "id": "f4e89922",
   "metadata": {},
   "source": [
    "Text wrap"
   ]
  },
  {
   "cell_type": "code",
   "execution_count": null,
   "id": "66247a48",
   "metadata": {},
   "outputs": [],
   "source": [
    "def wrap(string, max_width):\n",
    "    string=textwrap.fill(string,max_width)\n",
    "    return(string)"
   ]
  },
  {
   "cell_type": "markdown",
   "id": "e8a870ec",
   "metadata": {},
   "source": [
    "Designer door Mat"
   ]
  },
  {
   "cell_type": "code",
   "execution_count": null,
   "id": "03d3481b",
   "metadata": {},
   "outputs": [],
   "source": [
    "n, m = map(int,input().split())\n",
    "for a in range(0,n//2):\n",
    "    b = int((2*a)+1)\n",
    "    print(('.|.'*b).center(m, '-'))\n",
    "print('WELCOME'.center(m,'-'))\n",
    "for a in reversed(range(0,n//2)):\n",
    "    b = int((2*a)+1)\n",
    "    print(('.|.'*b).center(m, '-'))"
   ]
  },
  {
   "cell_type": "markdown",
   "id": "52b897e2",
   "metadata": {},
   "source": [
    "Capitalize"
   ]
  },
  {
   "cell_type": "code",
   "execution_count": null,
   "id": "303f2048",
   "metadata": {},
   "outputs": [],
   "source": [
    "def solve(s):\n",
    "    for i in s[:].split():\n",
    "        s = s.replace(i, i.capitalize())\n",
    "    return s"
   ]
  },
  {
   "cell_type": "markdown",
   "id": "8b4645b1",
   "metadata": {},
   "source": [
    "The minion game"
   ]
  },
  {
   "cell_type": "code",
   "execution_count": null,
   "id": "5e7a3a77",
   "metadata": {},
   "outputs": [],
   "source": [
    "\n",
    "def minion_game(string):\n",
    "    vowels = 'AEIOU'\n",
    "    \n",
    "    k,s = 0, 0\n",
    "\n",
    "    for i in range(len(string)):\n",
    "        if string[i] in vowels:\n",
    "            k+=(len(string) - i)\n",
    "        else:\n",
    "            s+=(len(string) - i)\n",
    "\n",
    "    if k >s:\n",
    "        print(\"Kevin\", k)\n",
    "    elif k < s:\n",
    "        print(\"Stuart\", s)\n",
    "    else:\n",
    "        print(\"Draw\")\n",
    "\n",
    "\n",
    "if __name__ == '__main__':\n",
    "    s = input()\n",
    "    minion_game(s)"
   ]
  },
  {
   "cell_type": "markdown",
   "id": "792a7efb",
   "metadata": {},
   "source": [
    "Merge the tools"
   ]
  },
  {
   "cell_type": "code",
   "execution_count": null,
   "id": "0807a3ce",
   "metadata": {},
   "outputs": [],
   "source": [
    "def merge_the_tools(string, k):\n",
    "    # your code goes here\n",
    "    a = len(string)//k\n",
    "    for i in range(a):\n",
    "        print(''.join(dict.fromkeys(string[i*k:(i*k)+k])))\n",
    "        #usiamo il dict per evitare doppioni e mantenere l'ordine originale, con i set perderemmo l'ordine"
   ]
  },
  {
   "cell_type": "markdown",
   "id": "c940015f",
   "metadata": {},
   "source": [
    "Alphabet Rangoli"
   ]
  },
  {
   "cell_type": "code",
   "execution_count": null,
   "id": "3bcd9e84",
   "metadata": {},
   "outputs": [],
   "source": [
    "def print_rangoli(size):\n",
    "    # your code goes here\n",
    "     alfabeto = \"abcdefghijklmnopqrstuvwxyz\"\n",
    "    \n",
    "     size_totale = ((4*size)-3)\n",
    "     for i in range(1, size+1):\n",
    "        #sopra\n",
    "        a = \"\"\n",
    "        for j in range(i):\n",
    "            lettera = alfabeto[size-i+j]\n",
    "            a = a.center((2*j+1), lettera)\n",
    "        b = \"-\".join(a)\n",
    "        print(b.center(size_totale, \"-\"))  \n",
    "        #sotto               \n",
    "     for i in range(size-1, 0, -1):        \n",
    "        a = \"\"\n",
    "        for j in range(i):                \n",
    "            lettera = alfabeto[size-i+j]\n",
    "            a = a.center((2*j+1), lettera)\n",
    "        b = \"-\".join(a)\n",
    "        print(b.center(size_totale, \"-\")) \n",
    "\n",
    "if __name__ == '__main__':\n",
    "    n = int(input())\n",
    "    print_rangoli(n)"
   ]
  },
  {
   "cell_type": "markdown",
   "id": "21fb23a3",
   "metadata": {},
   "source": [
    "SETS 13"
   ]
  },
  {
   "cell_type": "markdown",
   "id": "13226c66",
   "metadata": {},
   "source": [
    "Introduction to sets"
   ]
  },
  {
   "cell_type": "code",
   "execution_count": null,
   "id": "92646328",
   "metadata": {},
   "outputs": [],
   "source": [
    "def average(array):\n",
    "    array=list(set(array))\n",
    "    somma=0\n",
    "    for i in range(0,len(array)):\n",
    "        somma+=array[i]\n",
    "    # your code goes here\n",
    "    average=somma/len(array)\n",
    "    return(average)"
   ]
  },
  {
   "cell_type": "markdown",
   "id": "99c7b027",
   "metadata": {},
   "source": [
    "No Idea!"
   ]
  },
  {
   "cell_type": "code",
   "execution_count": null,
   "id": "45c46fc8",
   "metadata": {},
   "outputs": [],
   "source": [
    "n,m=map(int, input().strip().split(' '))\n",
    "Numbers=list(map(int,input().strip().split(' ')))\n",
    "A=set(map(int,input().strip().split(' ')))\n",
    "B=set(map(int,input().strip().split(' ')))\n",
    "Total=0\n",
    "for i in Numbers:\n",
    "    if i in A:\n",
    "        Total+=1\n",
    "    if i in B:\n",
    "        Total-=1\n",
    "print(Total)"
   ]
  },
  {
   "cell_type": "markdown",
   "id": "214046f8",
   "metadata": {},
   "source": [
    "Symmetric difference"
   ]
  },
  {
   "cell_type": "code",
   "execution_count": null,
   "id": "e808091d",
   "metadata": {},
   "outputs": [],
   "source": [
    "M=input()\n",
    "M_raw=input()\n",
    "M_list=M_raw.split()\n",
    "M_set=set(map(int,M_list))\n",
    "N=input()\n",
    "N_raw=input()\n",
    "N_list=N_raw.split()\n",
    "N_set=set(map(int,N_list))\n",
    "C=set()\n",
    "C=(M_set).difference((N_set))\n",
    "D=(N_set).difference((M_set))\n",
    "Diff=C.union(D)\n",
    "Diff=list(Diff)\n",
    "Diff.sort()\n",
    "for i in range(0,len(Diff)):\n",
    " print(Diff[i])\n",
    "\n"
   ]
  },
  {
   "cell_type": "markdown",
   "id": "8281e7a0",
   "metadata": {},
   "source": [
    "set.add()"
   ]
  },
  {
   "cell_type": "code",
   "execution_count": null,
   "id": "de7dedee",
   "metadata": {},
   "outputs": [],
   "source": [
    "N=int(input())\n",
    "nation=set()\n",
    "for i in range(N):\n",
    "    nation.add(input())\n",
    "    \n",
    "print(len(nation))"
   ]
  },
  {
   "cell_type": "markdown",
   "id": "36920579",
   "metadata": {},
   "source": [
    "set.union() Operation"
   ]
  },
  {
   "cell_type": "code",
   "execution_count": null,
   "id": "81dcc93a",
   "metadata": {},
   "outputs": [],
   "source": [
    "a=int(input())\n",
    "s_a=set(map(int,input().split()))\n",
    "b=int(input())\n",
    "s_b=set(map(int,input().split()))\n",
    "s_c=s_a.union(s_b)\n",
    "print(len(s_c))"
   ]
  },
  {
   "cell_type": "markdown",
   "id": "c1293dbc",
   "metadata": {},
   "source": [
    "set.Difference() operation"
   ]
  },
  {
   "cell_type": "code",
   "execution_count": null,
   "id": "fdf7c253",
   "metadata": {},
   "outputs": [],
   "source": [
    "a=int(input())\n",
    "s_a=set(map(int,input().split()))\n",
    "b=int(input())\n",
    "s_b=set(map(int,input().split()))\n",
    "s_c=s_a.difference(s_b)\n",
    "print(len(s_c))"
   ]
  },
  {
   "cell_type": "markdown",
   "id": "1d4a6bb5",
   "metadata": {},
   "source": [
    "set.intersection() operation"
   ]
  },
  {
   "cell_type": "code",
   "execution_count": null,
   "id": "5390cd2d",
   "metadata": {},
   "outputs": [],
   "source": [
    "a=int(input())\n",
    "s_a=set(map(int,input().split()))\n",
    "b=int(input())\n",
    "s_b=set(map(int,input().split()))\n",
    "s_c=s_a.intersection(s_b)\n",
    "print(len(s_c))"
   ]
  },
  {
   "cell_type": "markdown",
   "id": "199f398b",
   "metadata": {},
   "source": [
    "Set.Symmetric_difference() operation"
   ]
  },
  {
   "cell_type": "code",
   "execution_count": null,
   "id": "17038f13",
   "metadata": {},
   "outputs": [],
   "source": [
    "a=int(input())\n",
    "s_a=set(map(int,input().split()))\n",
    "b=int(input())\n",
    "s_b=set(map(int,input().split()))\n",
    "s_d=s_a.union(s_b)\n",
    "s_c=s_a.intersection(s_b)\n",
    "s_c=s_d.difference(s_c)\n",
    "print(len(s_c))"
   ]
  },
  {
   "cell_type": "raw",
   "id": "b3188724",
   "metadata": {},
   "source": [
    "The captain's room "
   ]
  },
  {
   "cell_type": "code",
   "execution_count": null,
   "id": "c621ed16",
   "metadata": {},
   "outputs": [],
   "source": [
    "k = int(input())\n",
    "rooms = input().split()\n",
    "a = set(rooms)\n",
    "for i in a:\n",
    "    rooms.remove(i)\n",
    "print(*a.symmetric_difference(set(rooms)))"
   ]
  },
  {
   "cell_type": "markdown",
   "id": "0afbcdad",
   "metadata": {},
   "source": [
    "Check subset"
   ]
  },
  {
   "cell_type": "code",
   "execution_count": null,
   "id": "96152c75",
   "metadata": {},
   "outputs": [],
   "source": [
    "n=int(input())\n",
    "for i in range(n):\n",
    "    a=int(input())\n",
    "    A_Set=set(map(int,input().split()))\n",
    "    b=int(input())\n",
    "    B_Set=set(map(int,input().split()))\n",
    "    A_set=A_Set.intersection(B_Set)\n",
    "    if len(A_set)==a:\n",
    "        print(True)\n",
    "    else:\n",
    "        print(False)"
   ]
  },
  {
   "cell_type": "markdown",
   "id": "e61b93c9",
   "metadata": {},
   "source": [
    "Check strict superset"
   ]
  },
  {
   "cell_type": "code",
   "execution_count": null,
   "id": "cfb04624",
   "metadata": {},
   "outputs": [],
   "source": [
    "A_Set=set(map(int,input().split()))\n",
    "n=int(input())\n",
    "counter=0\n",
    "for i in range(n):\n",
    "    B_Set=set(map(int,input().split()))\n",
    "    if len(A_Set)<=len(B_Set):\n",
    "     pass\n",
    "    else:\n",
    "        C_set=A_Set.intersection(B_Set)\n",
    "        C_set=B_Set.difference(C_set)\n",
    "        if len(C_set)!=0:\n",
    "          \n",
    "         counter+=1\n",
    "         \n",
    "if counter==0:\n",
    "    print(True)\n",
    "else:\n",
    "    print(False)"
   ]
  },
  {
   "cell_type": "markdown",
   "id": "ac6ccaf6",
   "metadata": {},
   "source": [
    "Set.discard(), .remove()& .pop()"
   ]
  },
  {
   "cell_type": "code",
   "execution_count": null,
   "id": "93dd154e",
   "metadata": {},
   "outputs": [],
   "source": [
    "n = int(input())\n",
    "s = set(map(int, input().split()))\n",
    "N = int(input())\n",
    "\n",
    "for comando in [tuple(input().split(\" \")) for i in range(N)]:\n",
    "    if comando[0] == \"pop\":\n",
    "        s.pop()\n",
    "    elif comando[0] == \"discard\":\n",
    "        s.discard(int(comando[1]))\n",
    "    elif comando[0] == \"remove\":\n",
    "        s.remove(int(comando[1]))\n",
    "        \n",
    "print(sum(s))"
   ]
  },
  {
   "cell_type": "markdown",
   "id": "bc8262b2",
   "metadata": {},
   "source": [
    "Set mutation"
   ]
  },
  {
   "cell_type": "code",
   "execution_count": null,
   "id": "9d23cd58",
   "metadata": {},
   "outputs": [],
   "source": [
    "n = int(input())\n",
    "s = set(map(int,input().split()))\n",
    "M = int(input())\n",
    "\n",
    "somma=0\n",
    "for i in range(M):\n",
    "     comando=input().split()\n",
    "     a=set(map(int,input().split()))\n",
    "     if comando[0] == \"intersection_update\":\n",
    "        s.intersection_update(a)\n",
    "     elif comando[0] == \"update\":\n",
    "        s.update(a)\n",
    "     elif comando[0] == \"difference_update\":\n",
    "        s.difference_update(a)\n",
    "     elif comando[0] == \"symmetric_difference_update\":\n",
    "        s.symmetric_difference_update(a)\n",
    "s=list(s)\n",
    "       \n",
    "for i in range(0,len(s)):\n",
    "    somma+=s[i]\n",
    "    \n",
    "print(somma)"
   ]
  },
  {
   "cell_type": "markdown",
   "id": "42d7f8ab",
   "metadata": {},
   "source": [
    "COLLECTION 8"
   ]
  },
  {
   "cell_type": "markdown",
   "id": "e26ebd6a",
   "metadata": {},
   "source": [
    "Collections.counter()"
   ]
  },
  {
   "cell_type": "code",
   "execution_count": null,
   "id": "2c69d350",
   "metadata": {},
   "outputs": [],
   "source": [
    "from collections import Counter\n",
    "X=int(input())\n",
    "taglie=list(map(int,input().split()))\n",
    "N=int(input())\n",
    "magazzino=Counter(taglie)\n",
    "guadagno=0\n",
    "for i in range(N):\n",
    "    ordine,prezzo=map(int,input().split())\n",
    "    if magazzino[ordine]!=0:\n",
    "        guadagno+=prezzo\n",
    "        magazzino[ordine]-=1\n",
    "    \n",
    "print(guadagno)"
   ]
  },
  {
   "cell_type": "markdown",
   "id": "ee61fe52",
   "metadata": {},
   "source": [
    "DefaultDict"
   ]
  },
  {
   "cell_type": "code",
   "execution_count": null,
   "id": "5067ed16",
   "metadata": {},
   "outputs": [],
   "source": [
    "from collections import defaultdict\n",
    "n,m=map(int,input().split())\n",
    "A=[]\n",
    "B=[]\n",
    "for i in range(n):\n",
    "    A.append(input())\n",
    "for j in range(m):\n",
    "    B.append(input())\n",
    "    \n",
    "d=defaultdict(list)\n",
    "for i in range(len(A)):\n",
    "    d[A[i]].append(i+1)\n",
    "for i in range(len(B)):\n",
    "    if len(d[B[i]])>0:\n",
    "        print(*d[B[i]])\n",
    "    else:\n",
    "        print(-1)"
   ]
  },
  {
   "cell_type": "markdown",
   "id": "2375a65f",
   "metadata": {},
   "source": [
    "Collections.namedtuple()"
   ]
  },
  {
   "cell_type": "code",
   "execution_count": null,
   "id": "e3b7d19b",
   "metadata": {},
   "outputs": [],
   "source": [
    "from collections import namedtuple\n",
    "N=int(input())\n",
    "colonne=\" \".join(input().split())\n",
    "voti=0\n",
    "registro=namedtuple(\"registro\", colonne)\n",
    "for _ in range(N):\n",
    "    lst=input().split()\n",
    "    student=registro(lst[0], lst[1], lst[2], lst[3])\n",
    "    voti+=int(student.MARKS)\n",
    "print(f\"{voti / N :.2f}\")"
   ]
  },
  {
   "cell_type": "markdown",
   "id": "7a3e4a2e",
   "metadata": {},
   "source": [
    "Collection.orderedDict()"
   ]
  },
  {
   "cell_type": "code",
   "execution_count": null,
   "id": "7865574c",
   "metadata": {},
   "outputs": [],
   "source": [
    "from collections import OrderedDict\n",
    "N = int(input())\n",
    "lista = OrderedDict()\n",
    "\n",
    "for i in range(N):\n",
    "    a = input().split()\n",
    "    price = int(a[-1])\n",
    "    a.pop(-1)\n",
    "    item = ' '.join(a)\n",
    "    if item in lista:\n",
    "        lista[item] += int(price)\n",
    "    else:\n",
    "        lista[item] = int(price)\n",
    "        \n",
    "for b,c in lista.items():\n",
    "    print(f'{b} {c}')"
   ]
  },
  {
   "cell_type": "markdown",
   "id": "39dd4cd4",
   "metadata": {},
   "source": [
    "Word Order"
   ]
  },
  {
   "cell_type": "code",
   "execution_count": null,
   "id": "5c7f1cda",
   "metadata": {},
   "outputs": [],
   "source": [
    "from collections import Counter\n",
    "N = int(input())\n",
    "words = []\n",
    "for i in range(N):\n",
    "    words.append(input())\n",
    "count = list(Counter(words).values())\n",
    "print(len(count))\n",
    "print(*count)\n",
    "    "
   ]
  },
  {
   "cell_type": "markdown",
   "id": "66b79b06",
   "metadata": {},
   "source": [
    "Collection.deque()"
   ]
  },
  {
   "cell_type": "code",
   "execution_count": null,
   "id": "e838887c",
   "metadata": {},
   "outputs": [],
   "source": [
    "from collections import deque\n",
    "N=int(input())\n",
    "d=deque()\n",
    "for i in range(N):\n",
    "    comando=input().split()\n",
    "     \n",
    "    if comando[0] == \"append\":\n",
    "        d.append(comando[1])\n",
    "    elif comando[0] == \"appendleft\":\n",
    "        d.appendleft(comando[1])\n",
    "    elif comando[0] == \"clear\":\n",
    "        d.clear()\n",
    "    elif comando[0] == \"extend\":\n",
    "        d.extend(comando[1])\n",
    "    elif comando[0] == \"extendleft\":\n",
    "        d.extendleft(comando[1])\n",
    "    elif comando[0] == \"count\":\n",
    "        d.count(comando[1])\n",
    "    elif comando[0] == \"pop\":\n",
    "        d.pop()\n",
    "    elif comando[0] == \"popleft\":\n",
    "        d.popleft()\n",
    "    elif comando[0] == \"remove\":\n",
    "        d.remove(comando[1])\n",
    "    elif comando[0] == \"reverse\":\n",
    "        d.reverse()\n",
    "    elif comando[0] == \"rotate\":\n",
    "        d.rotate(comando[1])\n",
    "         \n",
    "print(*d)"
   ]
  },
  {
   "cell_type": "markdown",
   "id": "63f5308e",
   "metadata": {},
   "source": [
    "Company Logo"
   ]
  },
  {
   "cell_type": "code",
   "execution_count": null,
   "id": "346d98aa",
   "metadata": {},
   "outputs": [],
   "source": [
    "#!/bin/python3\n",
    "\n",
    "import math\n",
    "import os\n",
    "import random\n",
    "import re\n",
    "import sys\n",
    "from collections import Counter\n",
    "\n",
    "\n",
    "if __name__ == '__main__':\n",
    "    s = input()\n",
    "    S = sorted(s)\n",
    "elenco = Counter(list(S))\n",
    "for i, j in elenco.most_common(3):\n",
    "    print(i, j)\n"
   ]
  },
  {
   "cell_type": "markdown",
   "id": "58f590ee",
   "metadata": {},
   "source": [
    "Piling up!"
   ]
  },
  {
   "cell_type": "code",
   "execution_count": null,
   "id": "527eeef0",
   "metadata": {},
   "outputs": [],
   "source": [
    "from collections import deque\n",
    "T=int(input())\n",
    "\n",
    "\n",
    "for i in range(0,T):\n",
    "    n=int(input())\n",
    "    d=deque(list(map(int,input().split())))\n",
    "    temp=d[0]+d[-1]\n",
    "    for j in range(n):\n",
    "        \n",
    "        \n",
    "        if d[0]<= d[-1] and d[-1]<=temp:\n",
    "            temp=d[-1]\n",
    "            d.pop()\n",
    "        elif d[0]>d[-1] and d[0]<=temp:\n",
    "            temp=d[0]\n",
    "            d.popleft()\n",
    "        else:\n",
    "            break\n",
    "    if len(d)==0:\n",
    "        print('Yes')\n",
    "    else:\n",
    "        print('No')"
   ]
  },
  {
   "cell_type": "markdown",
   "id": "84d2d1d9",
   "metadata": {},
   "source": [
    "DATE AND TIME 2"
   ]
  },
  {
   "cell_type": "markdown",
   "id": "83210c4d",
   "metadata": {},
   "source": [
    "Calendar module"
   ]
  },
  {
   "cell_type": "code",
   "execution_count": null,
   "id": "494fcde9",
   "metadata": {},
   "outputs": [],
   "source": [
    "import calendar\n",
    "m,d,y=input().split()\n",
    "giorno = calendar.weekday(int(y), int(m), int(d))\n",
    "day_name = calendar.day_name\n",
    "print(day_name[giorno].upper())"
   ]
  },
  {
   "cell_type": "markdown",
   "id": "19119054",
   "metadata": {},
   "source": [
    "Time Delta"
   ]
  },
  {
   "cell_type": "code",
   "execution_count": null,
   "id": "76193481",
   "metadata": {},
   "outputs": [],
   "source": [
    "#!/bin/python3\n",
    "\n",
    "import math\n",
    "import os\n",
    "import random\n",
    "import re\n",
    "import sys\n",
    "from datetime import datetime\n",
    "\n",
    "# Complete the time_delta function below.\n",
    "def time_delta(t1, t2):\n",
    "    time_format = '%a %d %b %Y %H:%M:%S %z'\n",
    "    t1 = datetime.strptime(t1, time_format)\n",
    "    t2 = datetime.strptime(t2, time_format)\n",
    "    return str(int(abs((t1-t2).total_seconds())))\n",
    "\n",
    "if __name__ == '__main__':\n",
    "    fptr = open(os.environ['OUTPUT_PATH'], 'w')\n",
    "\n",
    "    t = int(input())\n",
    "\n",
    "    for t_itr in range(t):\n",
    "        t1 = input()\n",
    "\n",
    "        t2 = input()\n",
    "\n",
    "        delta = time_delta(t1, t2)\n",
    "\n",
    "        fptr.write(delta + '\\n')\n",
    "\n",
    "    fptr.close()"
   ]
  },
  {
   "cell_type": "markdown",
   "id": "1f8366f5",
   "metadata": {},
   "source": [
    "EXCEPTION 1"
   ]
  },
  {
   "cell_type": "code",
   "execution_count": null,
   "id": "61361daa",
   "metadata": {},
   "outputs": [],
   "source": [
    "T=int(input())\n",
    "for i in range(T):\n",
    "    a,b=input().split()\n",
    "    try:\n",
    "        print(int(int(a)/int(b)))\n",
    "    except ValueError as z:\n",
    "        print('Error Code:', z)\n",
    "    except ZeroDivisionError:\n",
    "        print('Error Code: integer division or modulo by zero')"
   ]
  },
  {
   "cell_type": "markdown",
   "id": "15f63e39",
   "metadata": {},
   "source": [
    "BUILT-INS 3"
   ]
  },
  {
   "cell_type": "markdown",
   "id": "c6831537",
   "metadata": {},
   "source": [
    "Zipped!"
   ]
  },
  {
   "cell_type": "code",
   "execution_count": null,
   "id": "78dab1bf",
   "metadata": {},
   "outputs": [],
   "source": [
    "N, X = map(int, input().split())\n",
    "temp=[]\n",
    "for _ in range(X):\n",
    "    temp_1=list(map(float, input().split()))\n",
    "    temp+=[temp_1]\n",
    "    \n",
    "score=list(zip(*temp))\n",
    "for i in range(N):\n",
    "    print(round(sum(score[i])/X, 1))"
   ]
  },
  {
   "cell_type": "markdown",
   "id": "f9113fe9",
   "metadata": {},
   "source": [
    "Athlete Sort"
   ]
  },
  {
   "cell_type": "code",
   "execution_count": null,
   "id": "34be95bb",
   "metadata": {},
   "outputs": [],
   "source": [
    "#!/bin/python3\n",
    "\n",
    "import math\n",
    "import os\n",
    "import random\n",
    "import re\n",
    "import sys\n",
    "\n",
    "def take_k(arr):\n",
    "    return arr[k]\n",
    "\n",
    "if __name__ == '__main__':\n",
    "    nm = input().split()\n",
    "\n",
    "    n = int(nm[0])\n",
    "\n",
    "    m = int(nm[1])\n",
    "\n",
    "    arr = []\n",
    "\n",
    "    for _ in range(n):\n",
    "        arr.append(list(map(int, input().rstrip().split())))\n",
    "\n",
    "    k = int(input())\n",
    "    ARR=sorted(arr, key=take_k)\n",
    "    for i in range(n):\n",
    "        print(*ARR[i])"
   ]
  },
  {
   "cell_type": "markdown",
   "id": "10dd83bb",
   "metadata": {},
   "source": [
    "ginortS"
   ]
  },
  {
   "cell_type": "code",
   "execution_count": null,
   "id": "91d0785a",
   "metadata": {},
   "outputs": [],
   "source": [
    "s=input()\n",
    "a=sorted([x for x in s if x.islower()])\n",
    "b=sorted([x for x in s if x.isupper()])\n",
    "c=sorted([x for x in s if x.isnumeric() and int(x)%2!=0])\n",
    "d=sorted([x for x in s if x.isnumeric() and int(x)%2==0])\n",
    "\n",
    "result=\"\".join([*a,*b,*c,*d])\n",
    "print(result)"
   ]
  },
  {
   "cell_type": "markdown",
   "id": "91ae7fde",
   "metadata": {},
   "source": [
    "Python Functionals 1"
   ]
  },
  {
   "cell_type": "markdown",
   "id": "c2457a8c",
   "metadata": {},
   "source": [
    "Map and Lambda Function"
   ]
  },
  {
   "cell_type": "code",
   "execution_count": null,
   "id": "7188cf14",
   "metadata": {},
   "outputs": [],
   "source": [
    "cube = lambda x: x**3   # complete the lambda function \n",
    "\n",
    "def fibonacci(n):\n",
    "    # return a list of fibonacci numbers\n",
    "    if n==0:\n",
    "        return []\n",
    "    elif n==1:\n",
    "        return [0]\n",
    "    elif n==2:\n",
    "        return [0,1]\n",
    "    else:\n",
    "        x=[0,1]\n",
    "    while len(x)<n:\n",
    "        x.append(x[-1]+x[-2])\n",
    "    return x\n",
    "\n",
    "if __name__ == '__main__':\n",
    "    n = int(input())\n",
    "    print(list(map(cube, fibonacci(n))))"
   ]
  },
  {
   "cell_type": "markdown",
   "id": "8e0b79c7",
   "metadata": {},
   "source": [
    "Regex and Parsing challenges 17"
   ]
  },
  {
   "cell_type": "markdown",
   "id": "07dfe69e",
   "metadata": {},
   "source": [
    "Detect Floating Point Number"
   ]
  },
  {
   "cell_type": "code",
   "execution_count": null,
   "id": "2faf1c73",
   "metadata": {},
   "outputs": [],
   "source": [
    "T=int(input())\n",
    "for i in range(T):\n",
    "    string=input()\n",
    "    counter_1=0\n",
    "    counter_2=0\n",
    "    counter_3=0\n",
    "    counter_4=10\n",
    "    \n",
    "    for j in range(len(string)):\n",
    "        if string[j]=='.':\n",
    "            counter_1+=1\n",
    "            a=int(j)\n",
    "            if a <len(string):\n",
    "             counter_4=1\n",
    "        if string[j]=='+' or string[j]=='-':\n",
    "            counter_2+=1\n",
    "            if j!=0:\n",
    "                counter_2+=20\n",
    "        if not string[j].isnumeric() and string[j]!='+'and string[j]!='-'and string[j]!='.':\n",
    "            counter_3-=1\n",
    "        \n",
    "   \n",
    "    if counter_1==1 and counter_2<=1 and counter_3==0 and counter_4==1:\n",
    "        print (True)\n",
    "    else:\n",
    "        print(False)"
   ]
  },
  {
   "cell_type": "markdown",
   "id": "9629e735",
   "metadata": {},
   "source": [
    "Re.split()"
   ]
  },
  {
   "cell_type": "code",
   "execution_count": null,
   "id": "be5b5acb",
   "metadata": {},
   "outputs": [],
   "source": [
    "regex_pattern = r\"[],.]\"\t# Do not delete 'r'.\n",
    "\n",
    "import re\n",
    "print(\"\\n\".join(re.split(regex_pattern, input())))"
   ]
  },
  {
   "cell_type": "markdown",
   "id": "19fc812e",
   "metadata": {},
   "source": [
    "Group(), Groups() & Groupdict()"
   ]
  },
  {
   "cell_type": "code",
   "execution_count": null,
   "id": "a03ddb3c",
   "metadata": {},
   "outputs": [],
   "source": [
    "import re\n",
    "s = input()\n",
    "\n",
    "match = re.search(r'([a-zA-Z0-9])\\1{1,}', s)\n",
    "if match:\n",
    "        a=match.group(1)\n",
    "else:\n",
    "        a=-1\n",
    "\n",
    "\n",
    "print(a)"
   ]
  },
  {
   "cell_type": "raw",
   "id": "7f77b4cb",
   "metadata": {},
   "source": [
    "Re.findall() & Re.finditer()"
   ]
  },
  {
   "cell_type": "code",
   "execution_count": null,
   "id": "55f85233",
   "metadata": {},
   "outputs": [],
   "source": [
    "import re\n",
    "S = input()\n",
    "pattern = r'(?<=[bcdfghjklmnpqrstvwxtyzBCDFGHKLMNPQRSTVWXYZ])([aeiouAEIOU]{2,})(?=[bcdfghjklmnpqrstvwxtyzBCDFGHKLMNPQRSTVWXYZ])'\n",
    "\n",
    "if re.findall(pattern,S):\n",
    "    print(*re.findall(pattern,S), sep = \"\\n\")\n",
    "else:\n",
    "    print(-1)"
   ]
  },
  {
   "cell_type": "markdown",
   "id": "52a647f0",
   "metadata": {},
   "source": [
    "Re.start() & Re.end()"
   ]
  },
  {
   "cell_type": "code",
   "execution_count": null,
   "id": "e4d4332e",
   "metadata": {},
   "outputs": [],
   "source": [
    "import re\n",
    "s = input()\n",
    "k = input()\n",
    "goal = False\n",
    "\n",
    "for i in range(len(s)+1):\n",
    "    substring = s[0+i:]\n",
    "    m = re.match(k,substring)\n",
    "    if m != None:\n",
    "        result = (i,i+len(k)-1)\n",
    "        print(result)\n",
    "        goal = True\n",
    "    else:\n",
    "        pass\n",
    "if goal == False:\n",
    "    print(\"(-1, -1)\")"
   ]
  },
  {
   "cell_type": "markdown",
   "id": "f97c2a1a",
   "metadata": {},
   "source": [
    "Regex Substitution"
   ]
  },
  {
   "cell_type": "code",
   "execution_count": null,
   "id": "4eb2ce4f",
   "metadata": {},
   "outputs": [],
   "source": [
    "import re\n",
    "\n",
    "pattern = \"(?<= )(\\&\\&|\\|\\|)(?= )\"\n",
    "choice = lambda match: 'and' if match.group() == '&&' else 'or'\n",
    "N=int(input())\n",
    "for i in range(N):\n",
    "    print(re.sub(pattern, choice, input()))"
   ]
  },
  {
   "cell_type": "markdown",
   "id": "9f49ce64",
   "metadata": {},
   "source": [
    "Validating Roman Numerals"
   ]
  },
  {
   "cell_type": "code",
   "execution_count": null,
   "id": "9f16b56c",
   "metadata": {},
   "outputs": [],
   "source": [
    "regex_pattern = r\"^(M{0,3})(CM|CD|D?C{0,3})(XC|XL|L?X{0,3})(IX|IV|V?I{0,3})$\"\t# Do not delete 'r'.\n",
    "\n",
    "import re\n",
    "print(str(bool(re.match(regex_pattern, input()))))"
   ]
  },
  {
   "cell_type": "markdown",
   "id": "ab886629",
   "metadata": {},
   "source": [
    "Validating phone numbers"
   ]
  },
  {
   "cell_type": "code",
   "execution_count": null,
   "id": "a2ced1df",
   "metadata": {},
   "outputs": [],
   "source": [
    "import re\n",
    "n = int(input())\n",
    "pattern = r'[789][0-9]{9}'\n",
    "for i in range(n):\n",
    "        number = input()\n",
    "        if re.match(pattern, number) and len(number) == 10:\n",
    "                print('YES')\n",
    "        else:\n",
    "                print('NO')"
   ]
  },
  {
   "cell_type": "markdown",
   "id": "9b8e15f9",
   "metadata": {},
   "source": [
    "Validating and passing e-mail address"
   ]
  },
  {
   "cell_type": "code",
   "execution_count": null,
   "id": "49470e82",
   "metadata": {},
   "outputs": [],
   "source": [
    "import re\n",
    "import email.utils\n",
    "\n",
    "N=int(input())\n",
    "\n",
    "for i in range(N):\n",
    "    a = email.utils.parseaddr(input())\n",
    "    b = re.match(r'[a-zA-Z]([\\w\\.\\-])+@([a-zA-Z])+\\.([a-zA-Z]){1,3}$',a[1])\n",
    "    if b:\n",
    "        print(email.utils.formataddr(a))"
   ]
  },
  {
   "cell_type": "markdown",
   "id": "ba312b00",
   "metadata": {},
   "source": [
    "Hex color code"
   ]
  },
  {
   "cell_type": "code",
   "execution_count": null,
   "id": "fcbd92f3",
   "metadata": {},
   "outputs": [],
   "source": [
    "import re\n",
    "pattern = r'(?!^)(#([\\dA-Fa-f]{3}){1,2})'\n",
    "N=int(input())\n",
    "for i in range(N):\n",
    "    a = re.findall(pattern, input())\n",
    "    [print(x[0]) for x in a if a]"
   ]
  },
  {
   "cell_type": "markdown",
   "id": "b54bf09e",
   "metadata": {},
   "source": [
    "HTML Parser- Part 1"
   ]
  },
  {
   "cell_type": "code",
   "execution_count": null,
   "id": "446e7f1d",
   "metadata": {},
   "outputs": [],
   "source": [
    "import re\n",
    "from html.parser import HTMLParser\n",
    "\n",
    "class MyHTMLParser(HTMLParser):\n",
    "    def handle_starttag(self, tag, attrs):\n",
    "        if r'<!--(.*?)-->' not in tag:\n",
    "            print(f'Start : {tag}')\n",
    "            if attrs:\n",
    "                for attr in attrs:\n",
    "                    print(f'-> {attr[0]} > {attr[1]}')\n",
    "    def handle_endtag(self, tag):\n",
    "        print(f'End   : {tag}')\n",
    "    def handle_startendtag(self, tag, attrs):\n",
    "        print(f'Empty : {tag}')\n",
    "        if attrs:\n",
    "            for attr in attrs:\n",
    "                print(f'-> {attr[0]} > {attr[1]}')\n",
    "        \n",
    "\n",
    "\n",
    "n = int(input())\n",
    "lines = []\n",
    "for line in range(n):\n",
    "        lines.append(input())\n",
    "html = '\\n'.join(lines)\n",
    "    \n",
    "parser = MyHTMLParser()\n",
    "parser.feed(html)"
   ]
  },
  {
   "cell_type": "markdown",
   "id": "35573b0f",
   "metadata": {},
   "source": [
    "HTML Parser- Part 2"
   ]
  },
  {
   "cell_type": "code",
   "execution_count": null,
   "id": "9088a904",
   "metadata": {},
   "outputs": [],
   "source": [
    "from html.parser import HTMLParser\n",
    "\n",
    "class MyHTMLParser(HTMLParser):\n",
    "    def handle_comment(self, data):\n",
    "        if '\\n' in data:\n",
    "            print('>>> Multi-line Comment')\n",
    "            print(data)\n",
    "        else:\n",
    "            print('>>> Single-line Comment')\n",
    "            print(data)\n",
    "    def handle_data(self,data):\n",
    "        if '\\n' not in data:\n",
    "            print('>>> Data')\n",
    "            print(data)\n",
    "html = \"\"       \n",
    "for i in range(int(input())):\n",
    "    html += input().rstrip()\n",
    "    html += '\\n'\n",
    "    \n",
    "parser = MyHTMLParser()\n",
    "parser.feed(html)\n",
    "parser.close()"
   ]
  },
  {
   "cell_type": "markdown",
   "id": "62dcd5eb",
   "metadata": {},
   "source": [
    "Detect HTML Tags, Attributes and Attribute Values"
   ]
  },
  {
   "cell_type": "code",
   "execution_count": null,
   "id": "8ab3ff63",
   "metadata": {},
   "outputs": [],
   "source": [
    "from html.parser import HTMLParser\n",
    "n = int(input())\n",
    "class MyHTMLParser(HTMLParser):\n",
    "    def handle_starttag(self, tag, attrs):\n",
    "        print(tag)\n",
    "        for attr in attrs:\n",
    "            value_list = list(attr)\n",
    "            print('->', attr[0], '>', attr[1])\n",
    "parser = MyHTMLParser()\n",
    "html_input = '\\n'.join([input() for i in range(n)])\n",
    "parser.feed(html_input)"
   ]
  },
  {
   "cell_type": "markdown",
   "id": "d9d48a44",
   "metadata": {},
   "source": [
    "Validating UID"
   ]
  },
  {
   "cell_type": "code",
   "execution_count": null,
   "id": "cc668b14",
   "metadata": {},
   "outputs": [],
   "source": [
    "# Enter your code here. Read input from STDIN. Print output to STDOUT\n",
    "\n",
    "import re\n",
    "n = int(input())\n",
    "pattern = r'[a-zA-Z0-9]{10}'\n",
    "\n",
    "for i in range(n):\n",
    "        a = []\n",
    "        b = input()\n",
    "        valid = True\n",
    "        isNum = 0\n",
    "        if len(b) == 10:\n",
    "                match = bool(re.match(pattern, b))\n",
    "\n",
    "                if match:\n",
    "                        for j in b:\n",
    "                                if j not in a:\n",
    "                                        a.append(j)\n",
    "\n",
    "                                        if j.isdigit():\n",
    "                                                isNum += 1\n",
    "                                else:\n",
    "                                        valid = False\n",
    "                                        break\n",
    "                else:\n",
    "                        valid = False\n",
    "        else:\n",
    "                valid = False\n",
    "        if isNum < 3:\n",
    "                valid = False\n",
    "        if valid:\n",
    "                print('Valid')\n",
    "        else:\n",
    "                print('Invalid')"
   ]
  },
  {
   "cell_type": "markdown",
   "id": "2b291c29",
   "metadata": {},
   "source": [
    "Validating credit card Numbers"
   ]
  },
  {
   "cell_type": "code",
   "execution_count": null,
   "id": "ef052b5c",
   "metadata": {},
   "outputs": [],
   "source": [
    "\n",
    "import re\n",
    "\n",
    "def repetition(numbers):\n",
    "    max_rep = 0\n",
    "    counter = 1\n",
    "    for a, b in zip(numbers[:-1], numbers[1:]):\n",
    "        if b==a:\n",
    "            counter+=1\n",
    "            if max_rep < counter:\n",
    "                max_rep = counter\n",
    "        else:\n",
    "            counter=1\n",
    "    return max_rep\n",
    "    \n",
    "\n",
    "def goal(s):\n",
    "    pattern = r'[456]\\d{3}(-?\\d{4}){3}'\n",
    "    if not re.fullmatch(pattern, s):\n",
    "        return False\n",
    "    numbers = ''.join(filter(str.isdigit, s))\n",
    "    if repetition(numbers) >= 4:\n",
    "        return False\n",
    "    return True\n",
    "\n",
    "n = int(input())\n",
    "for i in range(n):\n",
    "    if goal(input()):\n",
    "        print('Valid')\n",
    "    else:\n",
    "        print('Invalid')"
   ]
  },
  {
   "cell_type": "markdown",
   "id": "4e9c3080",
   "metadata": {},
   "source": [
    "Validating Postal Code"
   ]
  },
  {
   "cell_type": "code",
   "execution_count": null,
   "id": "52ca5261",
   "metadata": {},
   "outputs": [],
   "source": [
    "regex_integer_in_range = r\"^[1-9]\\d{5}$\"\t# Do not delete 'r'.\n",
    "regex_alternating_repetitive_digit_pair = r\"(\\d)(?=\\d\\1)\"\t# Do not delete 'r'.\n",
    "\n",
    "\n",
    "import re\n",
    "P = input()\n",
    "\n",
    "print (bool(re.match(regex_integer_in_range, P)) \n",
    "and len(re.findall(regex_alternating_repetitive_digit_pair, P)) < 2)"
   ]
  },
  {
   "cell_type": "markdown",
   "id": "89cc5ca7",
   "metadata": {},
   "source": [
    "Matrix scripts"
   ]
  },
  {
   "cell_type": "code",
   "execution_count": null,
   "id": "cdc65c4a",
   "metadata": {},
   "outputs": [],
   "source": [
    "#!/bin/python3\n",
    "\n",
    "import math\n",
    "import os\n",
    "import random\n",
    "import re\n",
    "import sys\n",
    "\n",
    "\n",
    "\n",
    "\n",
    "first_multiple_input = input().rstrip().split()\n",
    "\n",
    "n = int(first_multiple_input[0])\n",
    "\n",
    "m = int(first_multiple_input[1])\n",
    "\n",
    "matrix = []\n",
    "\n",
    "for _ in range(n):\n",
    "    matrix_item = input()\n",
    "    matrix.append(matrix_item)\n",
    "M=\"\"\n",
    "for i in range(m):\n",
    "    for j in range(n):\n",
    "        M+=matrix[j][i]\n",
    "pattern=r\"(?<=[a-zA-Z0-9])[\\s!@#$%&]+(?=[a-zA-Z0-9])\"\n",
    "M=re.sub(pattern, \" \", M)\n",
    "print(M)"
   ]
  },
  {
   "cell_type": "markdown",
   "id": "2f2d2b59",
   "metadata": {},
   "source": [
    "XML 2"
   ]
  },
  {
   "cell_type": "markdown",
   "id": "4ab1848c",
   "metadata": {},
   "source": [
    "XML 1 - Find the Score"
   ]
  },
  {
   "cell_type": "code",
   "execution_count": null,
   "id": "b8e439ee",
   "metadata": {},
   "outputs": [],
   "source": [
    "port sys\n",
    "import xml.etree.ElementTree as etree\n",
    "\n",
    "def get_attr_number(node):\n",
    "    # your code goes here\n",
    "    tot = 0\n",
    "    tot += len(node.attrib)\n",
    "    for element in node:\n",
    "        tot += get_attr_number(element)\n",
    "    return tot\n",
    "\n",
    "if __name__ == '__main__':\n",
    "    sys.stdin.readline()\n",
    "    xml = sys.stdin.read()\n",
    "    tree = etree.ElementTree(etree.fromstring(xml))\n",
    "    root = tree.getroot()\n",
    "    print(get_attr_number(root))"
   ]
  },
  {
   "cell_type": "markdown",
   "id": "ec4b562f",
   "metadata": {},
   "source": [
    "XML2 - Find the Maximum Depth"
   ]
  },
  {
   "cell_type": "code",
   "execution_count": null,
   "id": "71419958",
   "metadata": {},
   "outputs": [],
   "source": [
    "import xml.etree.ElementTree as etree\n",
    "\n",
    "maxdepth = 0\n",
    "def depth(elem, level):\n",
    "    global maxdepth\n",
    "    # your code goes here\n",
    "    a = list(elem.iter())\n",
    "    if len(a) == 1:\n",
    "        maxdepth = max(maxdepth, level+1)\n",
    "    else:\n",
    "        for i in range(1, len(a)):\n",
    "            depth(a[i], level+1)\n",
    "\n",
    "if __name__ == '__main__':\n",
    "    n = int(input())\n",
    "    xml = \"\"\n",
    "    for i in range(n):\n",
    "        xml =  xml + input() + \"\\n\"\n",
    "    tree = etree.ElementTree(etree.fromstring(xml))\n",
    "    depth(tree.getroot(), -1)\n",
    "    print(maxdepth)"
   ]
  },
  {
   "cell_type": "markdown",
   "id": "d4474492",
   "metadata": {},
   "source": [
    " Closures and Decorations 2"
   ]
  },
  {
   "cell_type": "markdown",
   "id": "6ff02c54",
   "metadata": {},
   "source": [
    "Standardize Mobile Number Using Decorators"
   ]
  },
  {
   "cell_type": "code",
   "execution_count": null,
   "id": "504f795a",
   "metadata": {},
   "outputs": [],
   "source": [
    "def wrapper(f):\n",
    "    def fun(l):\n",
    "        # complete the function\n",
    "        a = []\n",
    "        for number in l:\n",
    "            a.append(f\"+91 {number[-10:-5]} {number[-5:]}\")\n",
    "        f(a)\n",
    "    return fun\n",
    "\n",
    "@wrapper\n",
    "def sort_phone(l):\n",
    "    print(*sorted(l), sep='\\n')\n",
    "\n",
    "if __name__ == '__main__':\n",
    "    l = [input() for _ in range(int(input()))]\n",
    "    sort_phone(l) "
   ]
  },
  {
   "cell_type": "markdown",
   "id": "671a8a2c",
   "metadata": {},
   "source": [
    "Decorators 2 - Name Directory"
   ]
  },
  {
   "cell_type": "code",
   "execution_count": null,
   "id": "81cd3ad9",
   "metadata": {},
   "outputs": [],
   "source": [
    "import operator\n",
    "\n",
    "def person_lister(f):\n",
    "    def inner(people):\n",
    "        # complete the function\n",
    "        for i,a in enumerate(people):\n",
    "            a.append(i)\n",
    "            a[2] = int(a[2])\n",
    "        people.sort(key=operator.itemgetter(2, -1))\n",
    "        \n",
    "        return (f(i) for i in people)\n",
    "    return inner\n",
    "\n",
    "@person_lister\n",
    "def name_format(person):\n",
    "    return (\"Mr. \" if person[3] == \"M\" else \"Ms. \") + person[0] + \" \" + person[1]\n",
    "\n",
    "if __name__ == '__main__':\n",
    "    people = [input().split() for i in range(int(input()))]\n",
    "    print(*name_format(people), sep='\\n')"
   ]
  },
  {
   "cell_type": "markdown",
   "id": "be031f1f",
   "metadata": {},
   "source": [
    "NUMPY 15"
   ]
  },
  {
   "cell_type": "markdown",
   "id": "d49bf6b6",
   "metadata": {},
   "source": [
    "Arrays"
   ]
  },
  {
   "cell_type": "code",
   "execution_count": null,
   "id": "79f57bc6",
   "metadata": {},
   "outputs": [],
   "source": [
    "import numpy\n",
    "\n",
    "def arrays(arr):\n",
    "    # complete this function\n",
    "    \n",
    "    arr = arr[::-1]\n",
    "    \n",
    "    return numpy.array(arr,float)\n",
    "    # use numpy.array\n",
    "\n",
    "arr = input().strip().split(' ')\n",
    "result = arrays(arr)\n",
    "print(result)"
   ]
  },
  {
   "cell_type": "markdown",
   "id": "997a1fd6",
   "metadata": {},
   "source": [
    "Shape and Reshape"
   ]
  },
  {
   "cell_type": "code",
   "execution_count": null,
   "id": "3ec5707b",
   "metadata": {},
   "outputs": [],
   "source": [
    "import numpy\n",
    "\n",
    "\n",
    "\n",
    "a=list(map(int,input().strip().split()))\n",
    "b=numpy.array(a)\n",
    "print(numpy.reshape(b,(3,3)))"
   ]
  },
  {
   "cell_type": "markdown",
   "id": "ebbef81f",
   "metadata": {},
   "source": [
    "Concatenate"
   ]
  },
  {
   "cell_type": "code",
   "execution_count": null,
   "id": "4c5245f3",
   "metadata": {},
   "outputs": [],
   "source": [
    "import numpy\n",
    "\n",
    "N, M, P = map(int,input().split())\n",
    "a = numpy.array([input().split() for _ in range(N)],int)\n",
    "b = numpy.array([input().split() for _ in range(M)],int)\n",
    "print(numpy.concatenate((a, b), axis = 0))"
   ]
  },
  {
   "cell_type": "markdown",
   "id": "34139daa",
   "metadata": {},
   "source": [
    "Zeros and Ones"
   ]
  },
  {
   "cell_type": "code",
   "execution_count": null,
   "id": "30572238",
   "metadata": {},
   "outputs": [],
   "source": [
    "import numpy\n",
    "\n",
    "dimension = list(map(int, input().split()))\n",
    "numbers = numpy.array(dimension)\n",
    "print(numpy.zeros(numbers, dtype=int))\n",
    "print(numpy.ones(numbers, dtype=int))\n"
   ]
  },
  {
   "cell_type": "markdown",
   "id": "024e0d4c",
   "metadata": {},
   "source": [
    "Eye and Identity"
   ]
  },
  {
   "cell_type": "code",
   "execution_count": null,
   "id": "f6068d0e",
   "metadata": {},
   "outputs": [],
   "source": [
    "import numpy\n",
    "numpy.set_printoptions(legacy = '1.13')\n",
    "N,M=map(int,input().split())\n",
    "print(numpy.eye(N, M, k = 0))"
   ]
  },
  {
   "cell_type": "markdown",
   "id": "d66a353c",
   "metadata": {},
   "source": [
    "Array Mathematics"
   ]
  },
  {
   "cell_type": "code",
   "execution_count": null,
   "id": "17ea55e1",
   "metadata": {},
   "outputs": [],
   "source": [
    "import numpy\n",
    "N,M = list(map(int,input().split()))\n",
    "a = numpy.array([input().split() for _ in range(N)],int)\n",
    "b = numpy.array([input().split() for _ in range(N)],int)\n",
    "print(numpy.add(a,b))\n",
    "print(numpy.subtract(a,b))\n",
    "print(numpy.multiply(a,b))\n",
    "print(numpy.floor_divide(a,b))\n",
    "print(numpy.mod(a,b))\n",
    "print(numpy.power(a,b))"
   ]
  },
  {
   "cell_type": "markdown",
   "id": "218d61b9",
   "metadata": {},
   "source": [
    "Floor, Ceil and Rint"
   ]
  },
  {
   "cell_type": "code",
   "execution_count": null,
   "id": "ac60069b",
   "metadata": {},
   "outputs": [],
   "source": [
    "import numpy\n",
    "numpy.set_printoptions(legacy='1.13')\n",
    "A=list(map(float,input().split()))\n",
    "A=numpy.array(A)\n",
    "print(numpy.floor(A))\n",
    "print(numpy.ceil(A))\n",
    "print(numpy.rint(A))"
   ]
  },
  {
   "cell_type": "markdown",
   "id": "cb1e743e",
   "metadata": {},
   "source": [
    "Sum and Prod"
   ]
  },
  {
   "cell_type": "code",
   "execution_count": null,
   "id": "2e711761",
   "metadata": {},
   "outputs": [],
   "source": [
    "import numpy\n",
    "\n",
    "N,M=map(int,input().split())\n",
    "a=[]\n",
    "for i in range(N):\n",
    "    a.append(list(map(int, input().split())))\n",
    "\n",
    "print(numpy.prod(numpy.sum(a, axis=0), axis=0))"
   ]
  },
  {
   "cell_type": "markdown",
   "id": "6eaafee8",
   "metadata": {},
   "source": [
    "Min and Max"
   ]
  },
  {
   "cell_type": "code",
   "execution_count": null,
   "id": "2ae81861",
   "metadata": {},
   "outputs": [],
   "source": [
    "import numpy\n",
    "N,M = map(int, input().split())\n",
    "a= numpy.array([input().split() for i in range(N)],int )\n",
    "print(numpy.max(numpy.min(a,axis=1)))"
   ]
  },
  {
   "cell_type": "markdown",
   "id": "c6b328b6",
   "metadata": {},
   "source": [
    "Mean, Var, and Std"
   ]
  },
  {
   "cell_type": "code",
   "execution_count": null,
   "id": "cae0ea6b",
   "metadata": {},
   "outputs": [],
   "source": [
    "import numpy\n",
    "N, M = map(int, input().split())\n",
    "a = numpy.array([input().split(\" \") for i in range(N)], int)\n",
    "print(numpy.mean(a, axis=1))\n",
    "print(numpy.var(a, axis=0))\n",
    "print(round(numpy.std(a, axis=None),11))\n",
    "#11 because the program wanted 11 decimal numbers"
   ]
  },
  {
   "cell_type": "markdown",
   "id": "d6c73692",
   "metadata": {},
   "source": [
    "Dot and Cross"
   ]
  },
  {
   "cell_type": "code",
   "execution_count": null,
   "id": "e0076cd1",
   "metadata": {},
   "outputs": [],
   "source": [
    "import numpy\n",
    "N = int(input())\n",
    "a = numpy.array([input().split() for i in range(N)], int)\n",
    "b = numpy.array([input().split() for i in range(N)], int)\n",
    "print(numpy.dot(a, b))\n"
   ]
  },
  {
   "cell_type": "markdown",
   "id": "e8d4a4be",
   "metadata": {},
   "source": [
    "Inner and Outer"
   ]
  },
  {
   "cell_type": "code",
   "execution_count": null,
   "id": "839a6118",
   "metadata": {},
   "outputs": [],
   "source": [
    "import numpy\n",
    "A = numpy.array(input().split(), int)\n",
    "B = numpy.array(input().split(), int)\n",
    "print(numpy.inner(A, B))\n",
    "print(numpy.outer(A, B))"
   ]
  },
  {
   "cell_type": "markdown",
   "id": "7739f97c",
   "metadata": {},
   "source": [
    "Polynomials"
   ]
  },
  {
   "cell_type": "code",
   "execution_count": null,
   "id": "425c769f",
   "metadata": {},
   "outputs": [],
   "source": [
    "import numpy\n",
    "A = numpy.array(input().split(), float)\n",
    "x=float(input())\n",
    "print(numpy.polyval(A, x))"
   ]
  },
  {
   "cell_type": "markdown",
   "id": "8614641f",
   "metadata": {},
   "source": [
    "Linear Algebra"
   ]
  },
  {
   "cell_type": "code",
   "execution_count": null,
   "id": "b23b0276",
   "metadata": {},
   "outputs": [],
   "source": [
    "import numpy\n",
    "numpy.set_printoptions(legacy='1.13') #i searched how to obtain the right approsimation\n",
    "N = int(input())\n",
    "A = numpy.array([input().split() for i in range(N)], float)\n",
    "print(numpy.linalg.det(A))"
   ]
  },
  {
   "cell_type": "markdown",
   "id": "273c4aa8",
   "metadata": {},
   "source": [
    "Transpose and Flatten"
   ]
  },
  {
   "cell_type": "code",
   "execution_count": null,
   "id": "84c5bda9",
   "metadata": {},
   "outputs": [],
   "source": [
    "import numpy\n",
    "N, M = map(int, input().split())\n",
    "a = numpy.array([input().strip().split() for i in range(N)], int)\n",
    "print(a.transpose())\n",
    "print(a.flatten())"
   ]
  },
  {
   "cell_type": "markdown",
   "id": "532d5d60",
   "metadata": {},
   "source": [
    "Birthday Cake Candles"
   ]
  },
  {
   "cell_type": "code",
   "execution_count": null,
   "id": "cb980be2",
   "metadata": {},
   "outputs": [],
   "source": [
    "#!/bin/python3\n",
    "\n",
    "import math\n",
    "import os\n",
    "import random\n",
    "import re\n",
    "import sys\n",
    "\n",
    "#\n",
    "# Complete the 'birthdayCakeCandles' function below.\n",
    "#\n",
    "# The function is expected to return an INTEGER.\n",
    "# The function accepts INTEGER_ARRAY candles as parameter.\n",
    "#\n",
    "\n",
    "def birthdayCakeCandles(candles):\n",
    "    # Write your code here\n",
    "    a=0\n",
    "    counter=0\n",
    "    for i in candles:\n",
    "        if i >a:\n",
    "            a=i\n",
    "    for i in candles:\n",
    "        if i==a:\n",
    "            counter+=1\n",
    "    return(counter)\n",
    "    \n",
    "    \n",
    "\n",
    "if __name__ == '__main__':\n",
    "    fptr = open(os.environ['OUTPUT_PATH'], 'w')\n",
    "\n",
    "    candles_count = int(input().strip())\n",
    "\n",
    "    candles = list(map(int, input().rstrip().split()))\n",
    "\n",
    "    result = birthdayCakeCandles(candles)\n",
    "\n",
    "    fptr.write(str(result) + '\\n')\n",
    "\n",
    "    fptr.close()\n"
   ]
  },
  {
   "cell_type": "markdown",
   "id": "e51de9f9",
   "metadata": {},
   "source": [
    "Number Line Jumps"
   ]
  },
  {
   "cell_type": "code",
   "execution_count": null,
   "id": "305dec47",
   "metadata": {},
   "outputs": [],
   "source": [
    "#!/bin/python3\n",
    "\n",
    "import math\n",
    "import os\n",
    "import random\n",
    "import re\n",
    "import sys\n",
    "\n",
    "#\n",
    "# Complete the 'kangaroo' function below.\n",
    "#\n",
    "# The function is expected to return a STRING.\n",
    "# The function accepts following parameters:\n",
    "#  1. INTEGER x1\n",
    "#  2. INTEGER v1\n",
    "#  3. INTEGER x2\n",
    "#  4. INTEGER v2\n",
    "#\n",
    "\n",
    "def kangaroo(x1, v1, x2, v2):\n",
    "    # Write your code here\n",
    "    counter=0\n",
    "    try:\n",
    "        a=int(round((x2-x1)//(v1-v2)))+5\n",
    "    \n",
    "    except ZeroDivisionError:\n",
    "        a=1\n",
    "    for t in range(a):\n",
    "        if (x1+(t*v1))==(x2+(t*v2)):\n",
    "            counter+=1\n",
    "            \n",
    "    if counter!=0:\n",
    "        return('YES')\n",
    "    else:\n",
    "        return('NO')\n",
    "    \n",
    "        \n",
    "\n",
    "if __name__ == '__main__':\n",
    "    fptr = open(os.environ['OUTPUT_PATH'], 'w')\n",
    "\n",
    "    first_multiple_input = input().rstrip().split()\n",
    "\n",
    "    x1 = int(first_multiple_input[0])\n",
    "\n",
    "    v1 = int(first_multiple_input[1])\n",
    "\n",
    "    x2 = int(first_multiple_input[2])\n",
    "\n",
    "    v2 = int(first_multiple_input[3])\n",
    "\n",
    "    result = kangaroo(x1, v1, x2, v2)\n",
    "\n",
    "    fptr.write(result + '\\n')\n",
    "\n",
    "    fptr.close()"
   ]
  },
  {
   "cell_type": "markdown",
   "id": "75469e88",
   "metadata": {},
   "source": [
    "Viral Advertising"
   ]
  },
  {
   "cell_type": "code",
   "execution_count": null,
   "id": "53a7bf21",
   "metadata": {},
   "outputs": [],
   "source": [
    "#!/bin/python3\n",
    "\n",
    "import math\n",
    "import os\n",
    "import random\n",
    "import re\n",
    "import sys\n",
    "\n",
    "#\n",
    "# Complete the 'viralAdvertising' function below.\n",
    "#\n",
    "# The function is expected to return an INTEGER.\n",
    "# The function accepts INTEGER n as parameter.\n",
    "#\n",
    "\n",
    "def viralAdvertising(n):\n",
    "    # Write your code here\n",
    "    like=0\n",
    "    people=5\n",
    "    for i in range(n):\n",
    "        if people%2!=0:\n",
    "            people-=1\n",
    "        \n",
    "        like+=int(people/2)\n",
    "        people=int(people/2)*3\n",
    "    return(like)\n",
    "if __name__ == '__main__':\n",
    "    fptr = open(os.environ['OUTPUT_PATH'], 'w')\n",
    "\n",
    "    n = int(input().strip())\n",
    "\n",
    "    result = viralAdvertising(n)\n",
    "\n",
    "    fptr.write(str(result) + '\\n')\n",
    "\n",
    "    fptr.close()"
   ]
  },
  {
   "cell_type": "markdown",
   "id": "542727d1",
   "metadata": {},
   "source": [
    "Recursive Digit Sum"
   ]
  },
  {
   "cell_type": "code",
   "execution_count": null,
   "id": "8d790e0f",
   "metadata": {},
   "outputs": [],
   "source": [
    "#!/bin/python3\n",
    "\n",
    "import math\n",
    "import os\n",
    "import random\n",
    "import re\n",
    "import sys\n",
    "\n",
    "#\n",
    "# Complete the 'superDigit' function below.\n",
    "#\n",
    "# The function is expected to return an INTEGER.\n",
    "# The function accepts following parameters:\n",
    "#  1. STRING n\n",
    "#  2. INTEGER k\n",
    "#\n",
    "\n",
    "def superDigit(n, k):\n",
    "    # Write your code here\n",
    "    digits = map(int, list(n))\n",
    "    return SUPERDIGIT(str(sum(digits) * k))\n",
    "    \n",
    "def SUPERDIGIT(c):\n",
    "    if len(c) == 1:\n",
    "        return int(c)\n",
    "    else:\n",
    "        digits = map(int, list(c))\n",
    "        return SUPERDIGIT(str(sum(digits)))\n",
    "\n",
    "if __name__ == '__main__':\n",
    "    fptr = open(os.environ['OUTPUT_PATH'], 'w')\n",
    "\n",
    "    first_multiple_input = input().rstrip().split()\n",
    "\n",
    "    n = first_multiple_input[0]\n",
    "\n",
    "    k = int(first_multiple_input[1])\n",
    "\n",
    "    result = superDigit(n, k)\n",
    "\n",
    "    fptr.write(str(result) + '\\n')\n",
    "\n",
    "    fptr.close()"
   ]
  },
  {
   "cell_type": "markdown",
   "id": "16d1ac14",
   "metadata": {},
   "source": [
    "Insertion sort part 1"
   ]
  },
  {
   "cell_type": "code",
   "execution_count": null,
   "id": "aa2a6478",
   "metadata": {},
   "outputs": [],
   "source": [
    "import random\n",
    "import re\n",
    "import sys\n",
    "\n",
    "#\n",
    "# Complete the 'insertionSort1' function below.\n",
    "#\n",
    "# The function accepts following parameters:\n",
    "#  1. INTEGER n\n",
    "#  2. INTEGER_ARRAY arr\n",
    "#\n",
    "\n",
    "def insertionSort1(n, arr):\n",
    "    \n",
    "    temp = arr[-1]\n",
    "    \n",
    "    for i in range(len(arr)-2, -1, -1):\n",
    "        \n",
    "        if arr[i] > temp:\n",
    "            arr[i+1] = arr[i]\n",
    "            print(\" \".join(map(str, arr)))\n",
    "        else:\n",
    "            arr[i+1] = temp\n",
    "            print(\" \".join(map(str, arr)))\n",
    "            break\n",
    "            \n",
    "    if arr[0] > temp:\n",
    "        arr[0] = temp\n",
    "        print(\" \".join(map(str, arr)))\n",
    "   \n",
    "\n",
    "if __name__ == '__main__':\n",
    "    n = int(input().strip())\n",
    "\n",
    "    arr = list(map(int, input().rstrip().split()))\n",
    "\n",
    "    insertionSort1(n, arr)"
   ]
  },
  {
   "cell_type": "markdown",
   "id": "02d514e4",
   "metadata": {},
   "source": [
    "Insertion Sort part 2"
   ]
  },
  {
   "cell_type": "code",
   "execution_count": null,
   "id": "199bd9aa",
   "metadata": {},
   "outputs": [],
   "source": [
    "#!/bin/python3\n",
    "\n",
    "import math\n",
    "import os\n",
    "import random\n",
    "import re\n",
    "import sys\n",
    "\n",
    "#\n",
    "# Complete the 'insertionSort2' function below.\n",
    "#\n",
    "# The function accepts following parameters:\n",
    "#  1. INTEGER n\n",
    "#  2. INTEGER_ARRAY arr\n",
    "#\n",
    "\n",
    "def insertionSort2(n, arr):\n",
    "    # Write your code here\n",
    " for i in range(1, len(arr)):\n",
    "    temp = arr[i]\n",
    "    \n",
    "    for j in range(i-1, -1, -1):\n",
    "        if arr[j] > temp:\n",
    "            arr[j+1] = arr[j]\n",
    "        else:\n",
    "            arr[j+1] = temp\n",
    "            break\n",
    "    if arr[0] > temp:\n",
    "        arr[0] = temp\n",
    "    print(\" \".join(map(str, arr)))\n",
    "\n",
    "if __name__ == '__main__':\n",
    "    n = int(input().strip())\n",
    "\n",
    "    arr = list(map(int, input().rstrip().split()))\n",
    "\n",
    "    insertionSort2(n, arr)\n"
   ]
  }
 ],
 "metadata": {
  "kernelspec": {
   "display_name": "Python 3 (ipykernel)",
   "language": "python",
   "name": "python3"
  },
  "language_info": {
   "codemirror_mode": {
    "name": "ipython",
    "version": 3
   },
   "file_extension": ".py",
   "mimetype": "text/x-python",
   "name": "python",
   "nbconvert_exporter": "python",
   "pygments_lexer": "ipython3",
   "version": "3.11.4"
  }
 },
 "nbformat": 4,
 "nbformat_minor": 5
}
